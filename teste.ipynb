{
 "cells": [
  {
   "cell_type": "code",
   "execution_count": 13,
   "metadata": {},
   "outputs": [
    {
     "data": {
      "text/html": [
       "<div>\n",
       "<style scoped>\n",
       "    .dataframe tbody tr th:only-of-type {\n",
       "        vertical-align: middle;\n",
       "    }\n",
       "\n",
       "    .dataframe tbody tr th {\n",
       "        vertical-align: top;\n",
       "    }\n",
       "\n",
       "    .dataframe thead th {\n",
       "        text-align: right;\n",
       "    }\n",
       "</style>\n",
       "<table border=\"1\" class=\"dataframe\">\n",
       "  <thead>\n",
       "    <tr style=\"text-align: right;\">\n",
       "      <th></th>\n",
       "      <th>clube</th>\n",
       "      <th>adversario</th>\n",
       "      <th>data</th>\n",
       "      <th>resultado</th>\n",
       "    </tr>\n",
       "  </thead>\n",
       "  <tbody>\n",
       "    <tr>\n",
       "      <th>0</th>\n",
       "      <td>Palmeiras</td>\n",
       "      <td>Bragantino</td>\n",
       "      <td>21/09/2022</td>\n",
       "      <td>1x1</td>\n",
       "    </tr>\n",
       "    <tr>\n",
       "      <th>1</th>\n",
       "      <td>Palmeiras</td>\n",
       "      <td>Vasco</td>\n",
       "      <td>21/09/2021</td>\n",
       "      <td>33x8</td>\n",
       "    </tr>\n",
       "    <tr>\n",
       "      <th>2</th>\n",
       "      <td>Palmeiras</td>\n",
       "      <td>Barcelona</td>\n",
       "      <td>22/10/2022</td>\n",
       "      <td>7x1</td>\n",
       "    </tr>\n",
       "    <tr>\n",
       "      <th>3</th>\n",
       "      <td>Bragantino</td>\n",
       "      <td>Barcelona</td>\n",
       "      <td>22/10/2022</td>\n",
       "      <td>7x1</td>\n",
       "    </tr>\n",
       "  </tbody>\n",
       "</table>\n",
       "</div>"
      ],
      "text/plain": [
       "        clube  adversario        data resultado\n",
       "0   Palmeiras  Bragantino  21/09/2022       1x1\n",
       "1   Palmeiras       Vasco  21/09/2021      33x8\n",
       "2   Palmeiras   Barcelona  22/10/2022       7x1\n",
       "3  Bragantino   Barcelona  22/10/2022       7x1"
      ]
     },
     "execution_count": 13,
     "metadata": {},
     "output_type": "execute_result"
    }
   ],
   "source": [
    "import pandas as pd \n",
    "from funcoes import *\n",
    "clube = \"Palmeiras\"\n",
    "\n",
    "partidas_teste = [\n",
    "    {\"clube\": \"Palmeiras\", \"adversario\": \"Bragantino\", \"data\": \"21/09/2022\", \"resultado\": \"1x1\"},\n",
    "    {\"clube\": \"Palmeiras\", \"adversario\": \"Vasco\", \"data\": \"21/09/2021\", \"resultado\": \"33x8\"},\n",
    "    {\"clube\": \"Palmeiras\", \"adversario\": \"Barcelona\", \"data\": \"22/10/2022\", \"resultado\": \"7x1\"},\n",
    "    {\"clube\": \"Bragantino\", \"adversario\": \"Barcelona\", \"data\": \"22/10/2022\", \"resultado\": \"7x1\"}\n",
    "    ]\n",
    "\n",
    "df_partidas = pd.DataFrame(partidas_teste)\n",
    "df_partidas"
   ]
  },
  {
   "cell_type": "code",
   "execution_count": 6,
   "metadata": {},
   "outputs": [
    {
     "data": {
      "text/html": [
       "<div>\n",
       "<style scoped>\n",
       "    .dataframe tbody tr th:only-of-type {\n",
       "        vertical-align: middle;\n",
       "    }\n",
       "\n",
       "    .dataframe tbody tr th {\n",
       "        vertical-align: top;\n",
       "    }\n",
       "\n",
       "    .dataframe thead th {\n",
       "        text-align: right;\n",
       "    }\n",
       "</style>\n",
       "<table border=\"1\" class=\"dataframe\">\n",
       "  <thead>\n",
       "    <tr style=\"text-align: right;\">\n",
       "      <th></th>\n",
       "      <th>clube</th>\n",
       "      <th>adversario</th>\n",
       "      <th>data</th>\n",
       "      <th>resultado</th>\n",
       "    </tr>\n",
       "  </thead>\n",
       "  <tbody>\n",
       "    <tr>\n",
       "      <th>0</th>\n",
       "      <td>Palmeiras</td>\n",
       "      <td>Bragantino</td>\n",
       "      <td>21/09/2022</td>\n",
       "      <td>1x1</td>\n",
       "    </tr>\n",
       "    <tr>\n",
       "      <th>1</th>\n",
       "      <td>Palmeiras</td>\n",
       "      <td>Vasco</td>\n",
       "      <td>21/09/2021</td>\n",
       "      <td>33x8</td>\n",
       "    </tr>\n",
       "    <tr>\n",
       "      <th>2</th>\n",
       "      <td>Palmeiras</td>\n",
       "      <td>Barcelona</td>\n",
       "      <td>22/10/2022</td>\n",
       "      <td>7x1</td>\n",
       "    </tr>\n",
       "  </tbody>\n",
       "</table>\n",
       "</div>"
      ],
      "text/plain": [
       "       clube  adversario        data resultado\n",
       "0  Palmeiras  Bragantino  21/09/2022       1x1\n",
       "1  Palmeiras       Vasco  21/09/2021      33x8\n",
       "2  Palmeiras   Barcelona  22/10/2022       7x1"
      ]
     },
     "execution_count": 6,
     "metadata": {},
     "output_type": "execute_result"
    }
   ],
   "source": [
    "df_filtrado = df_partidas[df_partidas['clube'] == clube]\n",
    "df_filtrado"
   ]
  },
  {
   "cell_type": "code",
   "execution_count": 16,
   "metadata": {},
   "outputs": [
    {
     "data": {
      "text/html": [
       "<div>\n",
       "<style scoped>\n",
       "    .dataframe tbody tr th:only-of-type {\n",
       "        vertical-align: middle;\n",
       "    }\n",
       "\n",
       "    .dataframe tbody tr th {\n",
       "        vertical-align: top;\n",
       "    }\n",
       "\n",
       "    .dataframe thead th {\n",
       "        text-align: right;\n",
       "    }\n",
       "</style>\n",
       "<table border=\"1\" class=\"dataframe\">\n",
       "  <thead>\n",
       "    <tr style=\"text-align: right;\">\n",
       "      <th></th>\n",
       "      <th>instante_ruptura</th>\n",
       "      <th>inicio_ruptura</th>\n",
       "      <th>zona</th>\n",
       "      <th>desfecho</th>\n",
       "      <th>nome_jogador_ruptura</th>\n",
       "    </tr>\n",
       "  </thead>\n",
       "  <tbody>\n",
       "    <tr>\n",
       "      <th>1</th>\n",
       "      <td>00:04:57</td>\n",
       "      <td>00:04:56</td>\n",
       "      <td>Zona 2</td>\n",
       "      <td>Forçou a saída de bola adversária</td>\n",
       "      <td>Vanderlan</td>\n",
       "    </tr>\n",
       "    <tr>\n",
       "      <th>2</th>\n",
       "      <td>00:10:12</td>\n",
       "      <td>00:10:12</td>\n",
       "      <td>Zona 1 - B</td>\n",
       "      <td>Passe não concluído</td>\n",
       "      <td>Rony</td>\n",
       "    </tr>\n",
       "    <tr>\n",
       "      <th>3</th>\n",
       "      <td>00:15:02</td>\n",
       "      <td>00:15:01</td>\n",
       "      <td>Zona 1 - B</td>\n",
       "      <td>Passou a bola</td>\n",
       "      <td>R. Veiga</td>\n",
       "    </tr>\n",
       "    <tr>\n",
       "      <th>4</th>\n",
       "      <td>00:51:02</td>\n",
       "      <td>00:51:00</td>\n",
       "      <td>Zona 2</td>\n",
       "      <td>Passou a bola</td>\n",
       "      <td>Rony</td>\n",
       "    </tr>\n",
       "    <tr>\n",
       "      <th>5</th>\n",
       "      <td>00:52:28</td>\n",
       "      <td>00:52:27</td>\n",
       "      <td>Zona 2</td>\n",
       "      <td>Passou a bola</td>\n",
       "      <td>Mayke</td>\n",
       "    </tr>\n",
       "  </tbody>\n",
       "</table>\n",
       "</div>"
      ],
      "text/plain": [
       "  instante_ruptura inicio_ruptura        zona  \\\n",
       "1         00:04:57       00:04:56      Zona 2   \n",
       "2         00:10:12       00:10:12  Zona 1 - B   \n",
       "3         00:15:02       00:15:01  Zona 1 - B   \n",
       "4         00:51:02       00:51:00      Zona 2   \n",
       "5         00:52:28       00:52:27      Zona 2   \n",
       "\n",
       "                            desfecho nome_jogador_ruptura  \n",
       "1  Forçou a saída de bola adversária            Vanderlan  \n",
       "2                Passe não concluído                 Rony  \n",
       "3                      Passou a bola             R. Veiga  \n",
       "4                      Passou a bola                 Rony  \n",
       "5                      Passou a bola                Mayke  "
      ]
     },
     "execution_count": 16,
     "metadata": {},
     "output_type": "execute_result"
    }
   ],
   "source": [
    "dados_rupturas = [{}, {'instante_ruptura': '00:04:57', 'inicio_ruptura': '00:04:56', 'zona': 'Zona 2', 'desfecho': 'Forçou a saída de bola adversária', 'nome_jogador_ruptura': 'Vanderlan'}, {'instante_ruptura': '00:10:12', 'inicio_ruptura': '00:10:12', 'zona': 'Zona 1 - B', 'desfecho': 'Passe não concluído', 'nome_jogador_ruptura': 'Rony'}, {'instante_ruptura': '00:15:02', 'inicio_ruptura': '00:15:01', 'zona': 'Zona 1 - B', 'desfecho': 'Passou a bola', 'nome_jogador_ruptura': 'R. Veiga'}, {'instante_ruptura': '00:51:02', 'inicio_ruptura': '00:51:00', 'zona': 'Zona 2', 'desfecho': 'Passou a bola', 'nome_jogador_ruptura': 'Rony'}, {'instante_ruptura': '00:52:28', 'inicio_ruptura': '00:52:27', 'zona': 'Zona 2', 'desfecho': 'Passou a bola', 'nome_jogador_ruptura': 'Mayke'}, {'instante_ruptura': '00:52:57', 'inicio_ruptura': '00:52:55', 'zona': 'Zona 1 - B', 'desfecho': 'Foi desarmado', 'nome_jogador_ruptura': 'Vanderlan'}, {'instante_ruptura': '01:32:37', 'inicio_ruptura': '01:32:36', 'zona': 'Zona 1 - B', 'desfecho': 'Não recebeu a bola', 'nome_jogador_ruptura': 'Richard Rios'}]\n",
    "df_rupturas = pd.DataFrame(dados_rupturas)\n",
    "df_rupturas = df_rupturas.iloc[1:]\n",
    "df_rupturas.head()"
   ]
  },
  {
   "cell_type": "code",
   "execution_count": 18,
   "metadata": {},
   "outputs": [],
   "source": [
    "def converter_tempo_para_segundos(tempo_str):\n",
    "    if not tempo_str:\n",
    "        return None\n",
    "\n",
    "    horas, minutos, segundos = map(int, tempo_str.split(':'))\n",
    "\n",
    "    return horas * 3600 + minutos * 60 + segundos"
   ]
  },
  {
   "cell_type": "code",
   "execution_count": 20,
   "metadata": {},
   "outputs": [
    {
     "name": "stdout",
     "output_type": "stream",
     "text": [
      "[(291, 301), (607, 617), (896, 906), (3055, 3065), (3142, 3152), (3170, 3180), (5551, 5561)]\n"
     ]
    }
   ],
   "source": [
    "lista_tempo_rupturas = []\n",
    "numero_ruptura = 1\n",
    "for ruptura_tempo_sec in df_rupturas[\"inicio_ruptura\"]:\n",
    "    inicio_video = converter_tempo_para_segundos(ruptura_tempo_sec) - 5\n",
    "    final_video = converter_tempo_para_segundos(ruptura_tempo_sec) +5\n",
    "    lista_tempo_rupturas.append((inicio_video,final_video))\n",
    "print(lista_tempo_rupturas)"
   ]
  }
 ],
 "metadata": {
  "kernelspec": {
   "display_name": "base",
   "language": "python",
   "name": "python3"
  },
  "language_info": {
   "codemirror_mode": {
    "name": "ipython",
    "version": 3
   },
   "file_extension": ".py",
   "mimetype": "text/x-python",
   "name": "python",
   "nbconvert_exporter": "python",
   "pygments_lexer": "ipython3",
   "version": "3.9.13"
  }
 },
 "nbformat": 4,
 "nbformat_minor": 2
}
