{
 "cells": [
  {
   "cell_type": "code",
   "execution_count": 8,
   "metadata": {},
   "outputs": [
    {
     "name": "stdout",
     "output_type": "stream",
     "text": [
      "[\n",
      "  {\n",
      "    \"adversario\": \"Bragantino\",\n",
      "    \"clube\": \"Palmeiras\",\n",
      "    \"data\": \"21/09/2022\",\n",
      "    \"resultado\": \"1x1\"\n",
      "  },\n",
      "  {\n",
      "    \"adversario\": \"Cruzeiro\",\n",
      "    \"clube\": \"Atletico\",\n",
      "    \"data\": \"21/09/2022\",\n",
      "    \"resultado\": \"6x1\"\n",
      "  },\n",
      "  {\n",
      "    \"adversario\": \"S\\u00e3o Paulo\",\n",
      "    \"clube\": \"Palmeiras\",\n",
      "    \"data\": \"21/09/2023\",\n",
      "    \"resultado\": \"1x8\"\n",
      "  }\n",
      "]\n",
      "\n"
     ]
    },
    {
     "data": {
      "text/html": [
       "<div>\n",
       "<style scoped>\n",
       "    .dataframe tbody tr th:only-of-type {\n",
       "        vertical-align: middle;\n",
       "    }\n",
       "\n",
       "    .dataframe tbody tr th {\n",
       "        vertical-align: top;\n",
       "    }\n",
       "\n",
       "    .dataframe thead th {\n",
       "        text-align: right;\n",
       "    }\n",
       "</style>\n",
       "<table border=\"1\" class=\"dataframe\">\n",
       "  <thead>\n",
       "    <tr style=\"text-align: right;\">\n",
       "      <th></th>\n",
       "      <th>clube</th>\n",
       "      <th>adversario</th>\n",
       "      <th>data</th>\n",
       "      <th>resultado</th>\n",
       "    </tr>\n",
       "  </thead>\n",
       "  <tbody>\n",
       "    <tr>\n",
       "      <th>0</th>\n",
       "      <td>Palmeiras</td>\n",
       "      <td>Bragantino</td>\n",
       "      <td>21/09/2022</td>\n",
       "      <td>1x1</td>\n",
       "    </tr>\n",
       "    <tr>\n",
       "      <th>1</th>\n",
       "      <td>Palmeiras</td>\n",
       "      <td>Vasco</td>\n",
       "      <td>21/09/2021</td>\n",
       "      <td>33x8</td>\n",
       "    </tr>\n",
       "    <tr>\n",
       "      <th>2</th>\n",
       "      <td>Palmeiras</td>\n",
       "      <td>Barcelona</td>\n",
       "      <td>22/10/2022</td>\n",
       "      <td>7x1</td>\n",
       "    </tr>\n",
       "    <tr>\n",
       "      <th>3</th>\n",
       "      <td>Bragantino</td>\n",
       "      <td>Barcelona</td>\n",
       "      <td>22/10/2022</td>\n",
       "      <td>7x1</td>\n",
       "    </tr>\n",
       "  </tbody>\n",
       "</table>\n",
       "</div>"
      ],
      "text/plain": [
       "        clube  adversario        data resultado\n",
       "0   Palmeiras  Bragantino  21/09/2022       1x1\n",
       "1   Palmeiras       Vasco  21/09/2021      33x8\n",
       "2   Palmeiras   Barcelona  22/10/2022       7x1\n",
       "3  Bragantino   Barcelona  22/10/2022       7x1"
      ]
     },
     "execution_count": 8,
     "metadata": {},
     "output_type": "execute_result"
    }
   ],
   "source": [
    "import pandas as pd \n",
    "from funcoes import *\n",
    "clube = \"Palmeiras\"\n",
    "\n",
    "partidas_teste = [\n",
    "    {\"clube\": \"Palmeiras\", \"adversario\": \"Bragantino\", \"data\": \"21/09/2022\", \"resultado\": \"1x1\"},\n",
    "    {\"clube\": \"Palmeiras\", \"adversario\": \"Vasco\", \"data\": \"21/09/2021\", \"resultado\": \"33x8\"},\n",
    "    {\"clube\": \"Palmeiras\", \"adversario\": \"Barcelona\", \"data\": \"22/10/2022\", \"resultado\": \"7x1\"},\n",
    "    {\"clube\": \"Bragantino\", \"adversario\": \"Barcelona\", \"data\": \"22/10/2022\", \"resultado\": \"7x1\"}\n",
    "    ]\n",
    "\n",
    "df_partidas = pd.DataFrame(partidas_teste)\n",
    "df_partidas"
   ]
  },
  {
   "cell_type": "code",
   "execution_count": 11,
   "metadata": {},
   "outputs": [
    {
     "name": "stdout",
     "output_type": "stream",
     "text": [
      "[\n",
      "  {\n",
      "    \"adversario\": \"Bragantino\",\n",
      "    \"clube\": \"Palmeiras\",\n",
      "    \"data\": \"21/09/2022\",\n",
      "    \"resultado\": \"1x1\"\n",
      "  },\n",
      "  {\n",
      "    \"adversario\": \"Cruzeiro\",\n",
      "    \"clube\": \"Atletico\",\n",
      "    \"data\": \"21/09/2022\",\n",
      "    \"resultado\": \"6x1\"\n",
      "  },\n",
      "  {\n",
      "    \"adversario\": \"S\\u00e3o Paulo\",\n",
      "    \"clube\": \"Palmeiras\",\n",
      "    \"data\": \"21/09/2023\",\n",
      "    \"resultado\": \"1x8\"\n",
      "  }\n",
      "]\n",
      "\n"
     ]
    },
    {
     "ename": "ValueError",
     "evalue": "DataFrame constructor not properly called!",
     "output_type": "error",
     "traceback": [
      "\u001b[0;31m---------------------------------------------------------------------------\u001b[0m",
      "\u001b[0;31mValueError\u001b[0m                                Traceback (most recent call last)",
      "\u001b[0;32m/var/folders/3z/t9kdlpz55mj3vq5l4yxx71sw0000gn/T/ipykernel_72547/878057835.py\u001b[0m in \u001b[0;36m<module>\u001b[0;34m\u001b[0m\n\u001b[1;32m      1\u001b[0m \u001b[0mdados_partidas\u001b[0m \u001b[0;34m=\u001b[0m \u001b[0mpartidas\u001b[0m\u001b[0;34m(\u001b[0m\u001b[0;34m)\u001b[0m\u001b[0;34m\u001b[0m\u001b[0;34m\u001b[0m\u001b[0m\n\u001b[1;32m      2\u001b[0m \u001b[0mprint\u001b[0m\u001b[0;34m(\u001b[0m\u001b[0mdados_partidas\u001b[0m\u001b[0;34m)\u001b[0m\u001b[0;34m\u001b[0m\u001b[0;34m\u001b[0m\u001b[0m\n\u001b[0;32m----> 3\u001b[0;31m \u001b[0mdf_partidas\u001b[0m \u001b[0;34m=\u001b[0m \u001b[0mpd\u001b[0m\u001b[0;34m.\u001b[0m\u001b[0mDataFrame\u001b[0m\u001b[0;34m(\u001b[0m\u001b[0mdados_partidas\u001b[0m\u001b[0;34m)\u001b[0m\u001b[0;34m\u001b[0m\u001b[0;34m\u001b[0m\u001b[0m\n\u001b[0m",
      "\u001b[0;32m~/opt/anaconda3/lib/python3.9/site-packages/pandas/core/frame.py\u001b[0m in \u001b[0;36m__init__\u001b[0;34m(self, data, index, columns, dtype, copy)\u001b[0m\n\u001b[1;32m    754\u001b[0m         \u001b[0;32melse\u001b[0m\u001b[0;34m:\u001b[0m\u001b[0;34m\u001b[0m\u001b[0;34m\u001b[0m\u001b[0m\n\u001b[1;32m    755\u001b[0m             \u001b[0;32mif\u001b[0m \u001b[0mindex\u001b[0m \u001b[0;32mis\u001b[0m \u001b[0;32mNone\u001b[0m \u001b[0;32mor\u001b[0m \u001b[0mcolumns\u001b[0m \u001b[0;32mis\u001b[0m \u001b[0;32mNone\u001b[0m\u001b[0;34m:\u001b[0m\u001b[0;34m\u001b[0m\u001b[0;34m\u001b[0m\u001b[0m\n\u001b[0;32m--> 756\u001b[0;31m                 \u001b[0;32mraise\u001b[0m \u001b[0mValueError\u001b[0m\u001b[0;34m(\u001b[0m\u001b[0;34m\"DataFrame constructor not properly called!\"\u001b[0m\u001b[0;34m)\u001b[0m\u001b[0;34m\u001b[0m\u001b[0;34m\u001b[0m\u001b[0m\n\u001b[0m\u001b[1;32m    757\u001b[0m \u001b[0;34m\u001b[0m\u001b[0m\n\u001b[1;32m    758\u001b[0m             \u001b[0;31m# Argument 1 to \"ensure_index\" has incompatible type \"Collection[Any]\";\u001b[0m\u001b[0;34m\u001b[0m\u001b[0;34m\u001b[0m\u001b[0m\n",
      "\u001b[0;31mValueError\u001b[0m: DataFrame constructor not properly called!"
     ]
    }
   ],
   "source": [
    "dados_partidas = partidas()\n",
    "print(dados_partidas)\n",
    "df_partidas = pd.DataFrame(dados_partidas)"
   ]
  },
  {
   "cell_type": "code",
   "execution_count": 6,
   "metadata": {},
   "outputs": [
    {
     "data": {
      "text/html": [
       "<div>\n",
       "<style scoped>\n",
       "    .dataframe tbody tr th:only-of-type {\n",
       "        vertical-align: middle;\n",
       "    }\n",
       "\n",
       "    .dataframe tbody tr th {\n",
       "        vertical-align: top;\n",
       "    }\n",
       "\n",
       "    .dataframe thead th {\n",
       "        text-align: right;\n",
       "    }\n",
       "</style>\n",
       "<table border=\"1\" class=\"dataframe\">\n",
       "  <thead>\n",
       "    <tr style=\"text-align: right;\">\n",
       "      <th></th>\n",
       "      <th>clube</th>\n",
       "      <th>adversario</th>\n",
       "      <th>data</th>\n",
       "      <th>resultado</th>\n",
       "    </tr>\n",
       "  </thead>\n",
       "  <tbody>\n",
       "    <tr>\n",
       "      <th>0</th>\n",
       "      <td>Palmeiras</td>\n",
       "      <td>Bragantino</td>\n",
       "      <td>21/09/2022</td>\n",
       "      <td>1x1</td>\n",
       "    </tr>\n",
       "    <tr>\n",
       "      <th>1</th>\n",
       "      <td>Palmeiras</td>\n",
       "      <td>Vasco</td>\n",
       "      <td>21/09/2021</td>\n",
       "      <td>33x8</td>\n",
       "    </tr>\n",
       "    <tr>\n",
       "      <th>2</th>\n",
       "      <td>Palmeiras</td>\n",
       "      <td>Barcelona</td>\n",
       "      <td>22/10/2022</td>\n",
       "      <td>7x1</td>\n",
       "    </tr>\n",
       "  </tbody>\n",
       "</table>\n",
       "</div>"
      ],
      "text/plain": [
       "       clube  adversario        data resultado\n",
       "0  Palmeiras  Bragantino  21/09/2022       1x1\n",
       "1  Palmeiras       Vasco  21/09/2021      33x8\n",
       "2  Palmeiras   Barcelona  22/10/2022       7x1"
      ]
     },
     "execution_count": 6,
     "metadata": {},
     "output_type": "execute_result"
    }
   ],
   "source": [
    "df_filtrado = df_partidas[df_partidas['clube'] == clube]\n",
    "df_filtrado"
   ]
  }
 ],
 "metadata": {
  "kernelspec": {
   "display_name": "base",
   "language": "python",
   "name": "python3"
  },
  "language_info": {
   "codemirror_mode": {
    "name": "ipython",
    "version": 3
   },
   "file_extension": ".py",
   "mimetype": "text/x-python",
   "name": "python",
   "nbconvert_exporter": "python",
   "pygments_lexer": "ipython3",
   "version": "3.9.13"
  }
 },
 "nbformat": 4,
 "nbformat_minor": 2
}
